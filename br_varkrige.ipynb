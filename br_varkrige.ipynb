{
 "cells": [
  {
   "attachments": {},
   "cell_type": "markdown",
   "metadata": {},
   "source": [
    "Import Required Libraries"
   ]
  },
  {
   "cell_type": "code",
   "execution_count": null,
   "metadata": {},
   "outputs": [],
   "source": [
    "import skgstat as skg\n",
    "import pandas as pd\n",
    "import numpy as np\n",
    "import matplotlib.pyplot as plt\n",
    "import pykrige.kriging_tools as kt\n",
    "from pykrige.ok import OrdinaryKriging"
   ]
  },
  {
   "attachments": {},
   "cell_type": "markdown",
   "metadata": {},
   "source": [
    "Import CSV Data as a Pandas Dataframe and Convert to Numpy Array"
   ]
  },
  {
   "cell_type": "code",
   "execution_count": null,
   "metadata": {},
   "outputs": [],
   "source": [
    "#Import Excel Data into Pandas Dataframe\n",
    "data = pd.read_csv('BR_Correction.csv',\n",
    "                usecols=[1,2,3])\n",
    "print(data.head())\n",
    "\n",
    "#Convert Pandas Dataframe to Numpy Array\n",
    "nparray = data.to_numpy()\n",
    "\n",
    "#Create 2D Dataset (n x 3: X, Y, Z)\n",
    "data = nparray"
   ]
  },
  {
   "attachments": {},
   "cell_type": "markdown",
   "metadata": {},
   "source": [
    "Read Min and Max Values from Array and Use to Generate Kriging Grid"
   ]
  },
  {
   "cell_type": "code",
   "execution_count": null,
   "metadata": {},
   "outputs": [],
   "source": [
    "#Read X and Y Extent from Data Min and Max\n",
    "X = pd.read_csv('BR_Correction.csv',\n",
    "                usecols=[1])\n",
    "\n",
    "Y = pd.read_csv('BR_Correction.csv',\n",
    "                usecols=[2])\n",
    "\n",
    "Z = pd.read_csv('BR_Correction.csv',\n",
    "                usecols=[3])\n",
    "\n",
    "#Xmin = np.min([X])\n",
    "#Xmax = np.max([X])\n",
    "#Ymin = np.min([Y])\n",
    "#Ymax = np.max([Y])\n",
    "\n",
    "Xmin = 484104.794\n",
    "Xmax = 492236.406\n",
    "Ymin = 5143373.272\n",
    "Ymax = 5150943.001\n",
    "\n",
    "Xaxis = Xmax - Xmin\n",
    "Yaxis = Ymax - Ymin\n",
    "\n",
    "#Create XY Grids (Min,Max,Step)\n",
    "gridx = np.arange(Xmin, Xmax, 20)\n",
    "gridy = np.arange(Ymin, Ymax, 20)"
   ]
  },
  {
   "cell_type": "markdown",
   "metadata": {},
   "source": [
    "Define Variogram Parameters"
   ]
  },
  {
   "cell_type": "code",
   "execution_count": null,
   "metadata": {},
   "outputs": [],
   "source": [
    "range = 1250\n",
    "nugget = 0\n",
    "sill = 16\n",
    "nlags = 500\n",
    "model = 'exponential'"
   ]
  },
  {
   "attachments": {},
   "cell_type": "markdown",
   "metadata": {},
   "source": [
    "Create Kriging Object and Grid"
   ]
  },
  {
   "cell_type": "code",
   "execution_count": null,
   "metadata": {},
   "outputs": [],
   "source": [
    "#Create Kriging Object\n",
    "OK = OrdinaryKriging(\n",
    "    X,\n",
    "    Y,\n",
    "    Z,\n",
    "    variogram_model=model,\n",
    "    variogram_parameters = [sill, range, nugget],\n",
    "    nlags = nlags,\n",
    "    verbose=False,\n",
    "    pseudo_inv = True,\n",
    "    exact_values = True,\n",
    "    enable_plotting=True)\n",
    "\n",
    "#Kriged Grid\n",
    "z, ss = OK.execute(\"grid\", gridx, gridy)"
   ]
  },
  {
   "attachments": {},
   "cell_type": "markdown",
   "metadata": {},
   "source": [
    "Write the Final Result to an ASCII Raster"
   ]
  },
  {
   "cell_type": "code",
   "execution_count": null,
   "metadata": {},
   "outputs": [],
   "source": [
    "#Write Kriged Grid to ASCII File\n",
    "kt.write_asc_grid(gridx, gridy, z, filename=\"output.asc\")\n",
    "plt.imshow(z)\n",
    "plt.show()"
   ]
  }
 ],
 "metadata": {
  "kernelspec": {
   "display_name": "geomodel",
   "language": "python",
   "name": "python3"
  },
  "language_info": {
   "codemirror_mode": {
    "name": "ipython",
    "version": 3
   },
   "file_extension": ".py",
   "mimetype": "text/x-python",
   "name": "python",
   "nbconvert_exporter": "python",
   "pygments_lexer": "ipython3",
   "version": "3.9.16"
  },
  "orig_nbformat": 4
 },
 "nbformat": 4,
 "nbformat_minor": 2
}
